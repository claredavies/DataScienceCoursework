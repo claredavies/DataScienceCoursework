{
  "nbformat": 4,
  "nbformat_minor": 0,
  "metadata": {
    "colab": {
      "name": "StudentGradePredictionCoursework.ipynb",
      "provenance": [],
      "collapsed_sections": [],
      "authorship_tag": "ABX9TyMsXXUs9sJb3l0nONenBCTk",
      "include_colab_link": true
    },
    "kernelspec": {
      "name": "python3",
      "display_name": "Python 3"
    },
    "language_info": {
      "name": "python"
    }
  },
  "cells": [
    {
      "cell_type": "markdown",
      "metadata": {
        "id": "view-in-github",
        "colab_type": "text"
      },
      "source": [
        "<a href=\"https://colab.research.google.com/github/claredavies/DataScienceCoursework/blob/master/StudentGradePredictionCoursework.ipynb\" target=\"_parent\"><img src=\"https://colab.research.google.com/assets/colab-badge.svg\" alt=\"Open In Colab\"/></a>"
      ]
    },
    {
      "cell_type": "markdown",
      "metadata": {
        "id": "4FIjvjg2w8Dl"
      },
      "source": [
        "Imports & Loading CSV"
      ]
    },
    {
      "cell_type": "code",
      "metadata": {
        "id": "BN2p1s6NS-vx",
        "colab": {
          "resources": {
            "http://localhost:8080/nbextensions/google.colab/files.js": {
              "data": "Ly8gQ29weXJpZ2h0IDIwMTcgR29vZ2xlIExMQwovLwovLyBMaWNlbnNlZCB1bmRlciB0aGUgQXBhY2hlIExpY2Vuc2UsIFZlcnNpb24gMi4wICh0aGUgIkxpY2Vuc2UiKTsKLy8geW91IG1heSBub3QgdXNlIHRoaXMgZmlsZSBleGNlcHQgaW4gY29tcGxpYW5jZSB3aXRoIHRoZSBMaWNlbnNlLgovLyBZb3UgbWF5IG9idGFpbiBhIGNvcHkgb2YgdGhlIExpY2Vuc2UgYXQKLy8KLy8gICAgICBodHRwOi8vd3d3LmFwYWNoZS5vcmcvbGljZW5zZXMvTElDRU5TRS0yLjAKLy8KLy8gVW5sZXNzIHJlcXVpcmVkIGJ5IGFwcGxpY2FibGUgbGF3IG9yIGFncmVlZCB0byBpbiB3cml0aW5nLCBzb2Z0d2FyZQovLyBkaXN0cmlidXRlZCB1bmRlciB0aGUgTGljZW5zZSBpcyBkaXN0cmlidXRlZCBvbiBhbiAiQVMgSVMiIEJBU0lTLAovLyBXSVRIT1VUIFdBUlJBTlRJRVMgT1IgQ09ORElUSU9OUyBPRiBBTlkgS0lORCwgZWl0aGVyIGV4cHJlc3Mgb3IgaW1wbGllZC4KLy8gU2VlIHRoZSBMaWNlbnNlIGZvciB0aGUgc3BlY2lmaWMgbGFuZ3VhZ2UgZ292ZXJuaW5nIHBlcm1pc3Npb25zIGFuZAovLyBsaW1pdGF0aW9ucyB1bmRlciB0aGUgTGljZW5zZS4KCi8qKgogKiBAZmlsZW92ZXJ2aWV3IEhlbHBlcnMgZm9yIGdvb2dsZS5jb2xhYiBQeXRob24gbW9kdWxlLgogKi8KKGZ1bmN0aW9uKHNjb3BlKSB7CmZ1bmN0aW9uIHNwYW4odGV4dCwgc3R5bGVBdHRyaWJ1dGVzID0ge30pIHsKICBjb25zdCBlbGVtZW50ID0gZG9jdW1lbnQuY3JlYXRlRWxlbWVudCgnc3BhbicpOwogIGVsZW1lbnQudGV4dENvbnRlbnQgPSB0ZXh0OwogIGZvciAoY29uc3Qga2V5IG9mIE9iamVjdC5rZXlzKHN0eWxlQXR0cmlidXRlcykpIHsKICAgIGVsZW1lbnQuc3R5bGVba2V5XSA9IHN0eWxlQXR0cmlidXRlc1trZXldOwogIH0KICByZXR1cm4gZWxlbWVudDsKfQoKLy8gTWF4IG51bWJlciBvZiBieXRlcyB3aGljaCB3aWxsIGJlIHVwbG9hZGVkIGF0IGEgdGltZS4KY29uc3QgTUFYX1BBWUxPQURfU0laRSA9IDEwMCAqIDEwMjQ7CgpmdW5jdGlvbiBfdXBsb2FkRmlsZXMoaW5wdXRJZCwgb3V0cHV0SWQpIHsKICBjb25zdCBzdGVwcyA9IHVwbG9hZEZpbGVzU3RlcChpbnB1dElkLCBvdXRwdXRJZCk7CiAgY29uc3Qgb3V0cHV0RWxlbWVudCA9IGRvY3VtZW50LmdldEVsZW1lbnRCeUlkKG91dHB1dElkKTsKICAvLyBDYWNoZSBzdGVwcyBvbiB0aGUgb3V0cHV0RWxlbWVudCB0byBtYWtlIGl0IGF2YWlsYWJsZSBmb3IgdGhlIG5leHQgY2FsbAogIC8vIHRvIHVwbG9hZEZpbGVzQ29udGludWUgZnJvbSBQeXRob24uCiAgb3V0cHV0RWxlbWVudC5zdGVwcyA9IHN0ZXBzOwoKICByZXR1cm4gX3VwbG9hZEZpbGVzQ29udGludWUob3V0cHV0SWQpOwp9CgovLyBUaGlzIGlzIHJvdWdobHkgYW4gYXN5bmMgZ2VuZXJhdG9yIChub3Qgc3VwcG9ydGVkIGluIHRoZSBicm93c2VyIHlldCksCi8vIHdoZXJlIHRoZXJlIGFyZSBtdWx0aXBsZSBhc3luY2hyb25vdXMgc3RlcHMgYW5kIHRoZSBQeXRob24gc2lkZSBpcyBnb2luZwovLyB0byBwb2xsIGZvciBjb21wbGV0aW9uIG9mIGVhY2ggc3RlcC4KLy8gVGhpcyB1c2VzIGEgUHJvbWlzZSB0byBibG9jayB0aGUgcHl0aG9uIHNpZGUgb24gY29tcGxldGlvbiBvZiBlYWNoIHN0ZXAsCi8vIHRoZW4gcGFzc2VzIHRoZSByZXN1bHQgb2YgdGhlIHByZXZpb3VzIHN0ZXAgYXMgdGhlIGlucHV0IHRvIHRoZSBuZXh0IHN0ZXAuCmZ1bmN0aW9uIF91cGxvYWRGaWxlc0NvbnRpbnVlKG91dHB1dElkKSB7CiAgY29uc3Qgb3V0cHV0RWxlbWVudCA9IGRvY3VtZW50LmdldEVsZW1lbnRCeUlkKG91dHB1dElkKTsKICBjb25zdCBzdGVwcyA9IG91dHB1dEVsZW1lbnQuc3RlcHM7CgogIGNvbnN0IG5leHQgPSBzdGVwcy5uZXh0KG91dHB1dEVsZW1lbnQubGFzdFByb21pc2VWYWx1ZSk7CiAgcmV0dXJuIFByb21pc2UucmVzb2x2ZShuZXh0LnZhbHVlLnByb21pc2UpLnRoZW4oKHZhbHVlKSA9PiB7CiAgICAvLyBDYWNoZSB0aGUgbGFzdCBwcm9taXNlIHZhbHVlIHRvIG1ha2UgaXQgYXZhaWxhYmxlIHRvIHRoZSBuZXh0CiAgICAvLyBzdGVwIG9mIHRoZSBnZW5lcmF0b3IuCiAgICBvdXRwdXRFbGVtZW50Lmxhc3RQcm9taXNlVmFsdWUgPSB2YWx1ZTsKICAgIHJldHVybiBuZXh0LnZhbHVlLnJlc3BvbnNlOwogIH0pOwp9CgovKioKICogR2VuZXJhdG9yIGZ1bmN0aW9uIHdoaWNoIGlzIGNhbGxlZCBiZXR3ZWVuIGVhY2ggYXN5bmMgc3RlcCBvZiB0aGUgdXBsb2FkCiAqIHByb2Nlc3MuCiAqIEBwYXJhbSB7c3RyaW5nfSBpbnB1dElkIEVsZW1lbnQgSUQgb2YgdGhlIGlucHV0IGZpbGUgcGlja2VyIGVsZW1lbnQuCiAqIEBwYXJhbSB7c3RyaW5nfSBvdXRwdXRJZCBFbGVtZW50IElEIG9mIHRoZSBvdXRwdXQgZGlzcGxheS4KICogQHJldHVybiB7IUl0ZXJhYmxlPCFPYmplY3Q+fSBJdGVyYWJsZSBvZiBuZXh0IHN0ZXBzLgogKi8KZnVuY3Rpb24qIHVwbG9hZEZpbGVzU3RlcChpbnB1dElkLCBvdXRwdXRJZCkgewogIGNvbnN0IGlucHV0RWxlbWVudCA9IGRvY3VtZW50LmdldEVsZW1lbnRCeUlkKGlucHV0SWQpOwogIGlucHV0RWxlbWVudC5kaXNhYmxlZCA9IGZhbHNlOwoKICBjb25zdCBvdXRwdXRFbGVtZW50ID0gZG9jdW1lbnQuZ2V0RWxlbWVudEJ5SWQob3V0cHV0SWQpOwogIG91dHB1dEVsZW1lbnQuaW5uZXJIVE1MID0gJyc7CgogIGNvbnN0IHBpY2tlZFByb21pc2UgPSBuZXcgUHJvbWlzZSgocmVzb2x2ZSkgPT4gewogICAgaW5wdXRFbGVtZW50LmFkZEV2ZW50TGlzdGVuZXIoJ2NoYW5nZScsIChlKSA9PiB7CiAgICAgIHJlc29sdmUoZS50YXJnZXQuZmlsZXMpOwogICAgfSk7CiAgfSk7CgogIGNvbnN0IGNhbmNlbCA9IGRvY3VtZW50LmNyZWF0ZUVsZW1lbnQoJ2J1dHRvbicpOwogIGlucHV0RWxlbWVudC5wYXJlbnRFbGVtZW50LmFwcGVuZENoaWxkKGNhbmNlbCk7CiAgY2FuY2VsLnRleHRDb250ZW50ID0gJ0NhbmNlbCB1cGxvYWQnOwogIGNvbnN0IGNhbmNlbFByb21pc2UgPSBuZXcgUHJvbWlzZSgocmVzb2x2ZSkgPT4gewogICAgY2FuY2VsLm9uY2xpY2sgPSAoKSA9PiB7CiAgICAgIHJlc29sdmUobnVsbCk7CiAgICB9OwogIH0pOwoKICAvLyBXYWl0IGZvciB0aGUgdXNlciB0byBwaWNrIHRoZSBmaWxlcy4KICBjb25zdCBmaWxlcyA9IHlpZWxkIHsKICAgIHByb21pc2U6IFByb21pc2UucmFjZShbcGlja2VkUHJvbWlzZSwgY2FuY2VsUHJvbWlzZV0pLAogICAgcmVzcG9uc2U6IHsKICAgICAgYWN0aW9uOiAnc3RhcnRpbmcnLAogICAgfQogIH07CgogIGNhbmNlbC5yZW1vdmUoKTsKCiAgLy8gRGlzYWJsZSB0aGUgaW5wdXQgZWxlbWVudCBzaW5jZSBmdXJ0aGVyIHBpY2tzIGFyZSBub3QgYWxsb3dlZC4KICBpbnB1dEVsZW1lbnQuZGlzYWJsZWQgPSB0cnVlOwoKICBpZiAoIWZpbGVzKSB7CiAgICByZXR1cm4gewogICAgICByZXNwb25zZTogewogICAgICAgIGFjdGlvbjogJ2NvbXBsZXRlJywKICAgICAgfQogICAgfTsKICB9CgogIGZvciAoY29uc3QgZmlsZSBvZiBmaWxlcykgewogICAgY29uc3QgbGkgPSBkb2N1bWVudC5jcmVhdGVFbGVtZW50KCdsaScpOwogICAgbGkuYXBwZW5kKHNwYW4oZmlsZS5uYW1lLCB7Zm9udFdlaWdodDogJ2JvbGQnfSkpOwogICAgbGkuYXBwZW5kKHNwYW4oCiAgICAgICAgYCgke2ZpbGUudHlwZSB8fCAnbi9hJ30pIC0gJHtmaWxlLnNpemV9IGJ5dGVzLCBgICsKICAgICAgICBgbGFzdCBtb2RpZmllZDogJHsKICAgICAgICAgICAgZmlsZS5sYXN0TW9kaWZpZWREYXRlID8gZmlsZS5sYXN0TW9kaWZpZWREYXRlLnRvTG9jYWxlRGF0ZVN0cmluZygpIDoKICAgICAgICAgICAgICAgICAgICAgICAgICAgICAgICAgICAgJ24vYSd9IC0gYCkpOwogICAgY29uc3QgcGVyY2VudCA9IHNwYW4oJzAlIGRvbmUnKTsKICAgIGxpLmFwcGVuZENoaWxkKHBlcmNlbnQpOwoKICAgIG91dHB1dEVsZW1lbnQuYXBwZW5kQ2hpbGQobGkpOwoKICAgIGNvbnN0IGZpbGVEYXRhUHJvbWlzZSA9IG5ldyBQcm9taXNlKChyZXNvbHZlKSA9PiB7CiAgICAgIGNvbnN0IHJlYWRlciA9IG5ldyBGaWxlUmVhZGVyKCk7CiAgICAgIHJlYWRlci5vbmxvYWQgPSAoZSkgPT4gewogICAgICAgIHJlc29sdmUoZS50YXJnZXQucmVzdWx0KTsKICAgICAgfTsKICAgICAgcmVhZGVyLnJlYWRBc0FycmF5QnVmZmVyKGZpbGUpOwogICAgfSk7CiAgICAvLyBXYWl0IGZvciB0aGUgZGF0YSB0byBiZSByZWFkeS4KICAgIGxldCBmaWxlRGF0YSA9IHlpZWxkIHsKICAgICAgcHJvbWlzZTogZmlsZURhdGFQcm9taXNlLAogICAgICByZXNwb25zZTogewogICAgICAgIGFjdGlvbjogJ2NvbnRpbnVlJywKICAgICAgfQogICAgfTsKCiAgICAvLyBVc2UgYSBjaHVua2VkIHNlbmRpbmcgdG8gYXZvaWQgbWVzc2FnZSBzaXplIGxpbWl0cy4gU2VlIGIvNjIxMTU2NjAuCiAgICBsZXQgcG9zaXRpb24gPSAwOwogICAgZG8gewogICAgICBjb25zdCBsZW5ndGggPSBNYXRoLm1pbihmaWxlRGF0YS5ieXRlTGVuZ3RoIC0gcG9zaXRpb24sIE1BWF9QQVlMT0FEX1NJWkUpOwogICAgICBjb25zdCBjaHVuayA9IG5ldyBVaW50OEFycmF5KGZpbGVEYXRhLCBwb3NpdGlvbiwgbGVuZ3RoKTsKICAgICAgcG9zaXRpb24gKz0gbGVuZ3RoOwoKICAgICAgY29uc3QgYmFzZTY0ID0gYnRvYShTdHJpbmcuZnJvbUNoYXJDb2RlLmFwcGx5KG51bGwsIGNodW5rKSk7CiAgICAgIHlpZWxkIHsKICAgICAgICByZXNwb25zZTogewogICAgICAgICAgYWN0aW9uOiAnYXBwZW5kJywKICAgICAgICAgIGZpbGU6IGZpbGUubmFtZSwKICAgICAgICAgIGRhdGE6IGJhc2U2NCwKICAgICAgICB9LAogICAgICB9OwoKICAgICAgbGV0IHBlcmNlbnREb25lID0gZmlsZURhdGEuYnl0ZUxlbmd0aCA9PT0gMCA/CiAgICAgICAgICAxMDAgOgogICAgICAgICAgTWF0aC5yb3VuZCgocG9zaXRpb24gLyBmaWxlRGF0YS5ieXRlTGVuZ3RoKSAqIDEwMCk7CiAgICAgIHBlcmNlbnQudGV4dENvbnRlbnQgPSBgJHtwZXJjZW50RG9uZX0lIGRvbmVgOwoKICAgIH0gd2hpbGUgKHBvc2l0aW9uIDwgZmlsZURhdGEuYnl0ZUxlbmd0aCk7CiAgfQoKICAvLyBBbGwgZG9uZS4KICB5aWVsZCB7CiAgICByZXNwb25zZTogewogICAgICBhY3Rpb246ICdjb21wbGV0ZScsCiAgICB9CiAgfTsKfQoKc2NvcGUuZ29vZ2xlID0gc2NvcGUuZ29vZ2xlIHx8IHt9OwpzY29wZS5nb29nbGUuY29sYWIgPSBzY29wZS5nb29nbGUuY29sYWIgfHwge307CnNjb3BlLmdvb2dsZS5jb2xhYi5fZmlsZXMgPSB7CiAgX3VwbG9hZEZpbGVzLAogIF91cGxvYWRGaWxlc0NvbnRpbnVlLAp9Owp9KShzZWxmKTsK",
              "ok": true,
              "headers": [
                [
                  "content-type",
                  "application/javascript"
                ]
              ],
              "status": 200,
              "status_text": ""
            }
          },
          "base_uri": "https://localhost:8080/",
          "height": 319
        },
        "outputId": "f2f5bd19-5219-4062-995e-4c448c5c763c"
      },
      "source": [
        "import matplotlib.pyplot as plt\n",
        "import numpy as np\n",
        "from sklearn import datasets, linear_model\n",
        "from sklearn.metrics import mean_squared_error, r2_score\n",
        "from sklearn import preprocessing\n",
        "import pandas as pd\n",
        "import seaborn as sns\n",
        "import io\n",
        "from google.colab import files\n",
        "\n",
        "data_to_load_students = files.upload()\n",
        "std = pd.read_csv(io.BytesIO(data_to_load_students['DataCoursework2.csv']))\n",
        "std.head(3)"
      ],
      "execution_count": 1,
      "outputs": [
        {
          "output_type": "display_data",
          "data": {
            "text/html": [
              "\n",
              "     <input type=\"file\" id=\"files-ebbe123e-2024-4aad-b31d-68e7979bb642\" name=\"files[]\" multiple disabled\n",
              "        style=\"border:none\" />\n",
              "     <output id=\"result-ebbe123e-2024-4aad-b31d-68e7979bb642\">\n",
              "      Upload widget is only available when the cell has been executed in the\n",
              "      current browser session. Please rerun this cell to enable.\n",
              "      </output>\n",
              "      <script src=\"/nbextensions/google.colab/files.js\"></script> "
            ],
            "text/plain": [
              "<IPython.core.display.HTML object>"
            ]
          },
          "metadata": {}
        },
        {
          "output_type": "stream",
          "name": "stdout",
          "text": [
            "Saving DataCoursework2.csv to DataCoursework2.csv\n"
          ]
        },
        {
          "output_type": "execute_result",
          "data": {
            "text/html": [
              "<div>\n",
              "<style scoped>\n",
              "    .dataframe tbody tr th:only-of-type {\n",
              "        vertical-align: middle;\n",
              "    }\n",
              "\n",
              "    .dataframe tbody tr th {\n",
              "        vertical-align: top;\n",
              "    }\n",
              "\n",
              "    .dataframe thead th {\n",
              "        text-align: right;\n",
              "    }\n",
              "</style>\n",
              "<table border=\"1\" class=\"dataframe\">\n",
              "  <thead>\n",
              "    <tr style=\"text-align: right;\">\n",
              "      <th></th>\n",
              "      <th>ID</th>\n",
              "      <th>Week2_Quiz1</th>\n",
              "      <th>Week3_MP1</th>\n",
              "      <th>Week3_PR1</th>\n",
              "      <th>Week5_MP2</th>\n",
              "      <th>Week5_PR2</th>\n",
              "      <th>Week7_MP3</th>\n",
              "      <th>Week7_PR3</th>\n",
              "      <th>Week4_Quiz2</th>\n",
              "      <th>Week6_Quiz3</th>\n",
              "      <th>Week8_Total</th>\n",
              "      <th>Week1_Stat0</th>\n",
              "      <th>Week1_Stat1</th>\n",
              "      <th>Week1_Stat2</th>\n",
              "      <th>Week1_Stat3</th>\n",
              "      <th>Week2_Stat0</th>\n",
              "      <th>Week2_Stat1</th>\n",
              "      <th>Week2_Stat2</th>\n",
              "      <th>Week2_Stat3</th>\n",
              "      <th>Week3_Stat0</th>\n",
              "      <th>Week3_Stat1</th>\n",
              "      <th>Week3_Stat2</th>\n",
              "      <th>Week3_Stat3</th>\n",
              "      <th>Week4_Stat0</th>\n",
              "      <th>Week4_Stat1</th>\n",
              "      <th>Week4_Stat2</th>\n",
              "      <th>Week4_Stat3</th>\n",
              "      <th>Week5_Stat0</th>\n",
              "      <th>Week5_Stat1</th>\n",
              "      <th>Week5_Stat2</th>\n",
              "      <th>Week5_Stat3</th>\n",
              "      <th>Week6_Stat0</th>\n",
              "      <th>Week6_Stat1</th>\n",
              "      <th>Week6_Stat2</th>\n",
              "      <th>Week6_Stat3</th>\n",
              "      <th>Week7_Stat0</th>\n",
              "      <th>Week7_Stat1</th>\n",
              "      <th>Week7_Stat2</th>\n",
              "      <th>Week7_Stat3</th>\n",
              "      <th>Week8_Stat0</th>\n",
              "      <th>Week8_Stat1</th>\n",
              "      <th>Week8_Stat2</th>\n",
              "      <th>Week8_Stat3</th>\n",
              "      <th>Week9_Stat0</th>\n",
              "      <th>Week9_Stat1</th>\n",
              "      <th>Week9_Stat2</th>\n",
              "      <th>Week9_Stat3</th>\n",
              "      <th>Grade</th>\n",
              "    </tr>\n",
              "  </thead>\n",
              "  <tbody>\n",
              "    <tr>\n",
              "      <th>0</th>\n",
              "      <td>ML-2020-1</td>\n",
              "      <td>5.00</td>\n",
              "      <td>15.0</td>\n",
              "      <td>5</td>\n",
              "      <td>16.09</td>\n",
              "      <td>5.0</td>\n",
              "      <td>21.88</td>\n",
              "      <td>5.0</td>\n",
              "      <td>5.0</td>\n",
              "      <td>5.0</td>\n",
              "      <td>82.97</td>\n",
              "      <td>0</td>\n",
              "      <td>0</td>\n",
              "      <td>0</td>\n",
              "      <td>0</td>\n",
              "      <td>7</td>\n",
              "      <td>30</td>\n",
              "      <td>1</td>\n",
              "      <td>0</td>\n",
              "      <td>30</td>\n",
              "      <td>4</td>\n",
              "      <td>0</td>\n",
              "      <td>0</td>\n",
              "      <td>14</td>\n",
              "      <td>39</td>\n",
              "      <td>2</td>\n",
              "      <td>0</td>\n",
              "      <td>24</td>\n",
              "      <td>6</td>\n",
              "      <td>1</td>\n",
              "      <td>0</td>\n",
              "      <td>28</td>\n",
              "      <td>30</td>\n",
              "      <td>2</td>\n",
              "      <td>0</td>\n",
              "      <td>2</td>\n",
              "      <td>0</td>\n",
              "      <td>1</td>\n",
              "      <td>0</td>\n",
              "      <td>5</td>\n",
              "      <td>4</td>\n",
              "      <td>0</td>\n",
              "      <td>4</td>\n",
              "      <td>8</td>\n",
              "      <td>6</td>\n",
              "      <td>1</td>\n",
              "      <td>0</td>\n",
              "      <td>4</td>\n",
              "    </tr>\n",
              "    <tr>\n",
              "      <th>1</th>\n",
              "      <td>ML-2020-2</td>\n",
              "      <td>3.33</td>\n",
              "      <td>15.0</td>\n",
              "      <td>5</td>\n",
              "      <td>17.83</td>\n",
              "      <td>5.0</td>\n",
              "      <td>22.27</td>\n",
              "      <td>5.0</td>\n",
              "      <td>4.0</td>\n",
              "      <td>5.0</td>\n",
              "      <td>82.43</td>\n",
              "      <td>8</td>\n",
              "      <td>0</td>\n",
              "      <td>0</td>\n",
              "      <td>0</td>\n",
              "      <td>61</td>\n",
              "      <td>10</td>\n",
              "      <td>3</td>\n",
              "      <td>8</td>\n",
              "      <td>100</td>\n",
              "      <td>4</td>\n",
              "      <td>4</td>\n",
              "      <td>3</td>\n",
              "      <td>130</td>\n",
              "      <td>16</td>\n",
              "      <td>1</td>\n",
              "      <td>4</td>\n",
              "      <td>48</td>\n",
              "      <td>19</td>\n",
              "      <td>5</td>\n",
              "      <td>5</td>\n",
              "      <td>57</td>\n",
              "      <td>22</td>\n",
              "      <td>2</td>\n",
              "      <td>4</td>\n",
              "      <td>31</td>\n",
              "      <td>9</td>\n",
              "      <td>0</td>\n",
              "      <td>8</td>\n",
              "      <td>5</td>\n",
              "      <td>2</td>\n",
              "      <td>0</td>\n",
              "      <td>0</td>\n",
              "      <td>25</td>\n",
              "      <td>3</td>\n",
              "      <td>2</td>\n",
              "      <td>5</td>\n",
              "      <td>4</td>\n",
              "    </tr>\n",
              "    <tr>\n",
              "      <th>2</th>\n",
              "      <td>ML-2020-3</td>\n",
              "      <td>1.67</td>\n",
              "      <td>13.0</td>\n",
              "      <td>5</td>\n",
              "      <td>15.22</td>\n",
              "      <td>5.0</td>\n",
              "      <td>27.05</td>\n",
              "      <td>2.5</td>\n",
              "      <td>5.0</td>\n",
              "      <td>5.0</td>\n",
              "      <td>79.44</td>\n",
              "      <td>4</td>\n",
              "      <td>0</td>\n",
              "      <td>0</td>\n",
              "      <td>0</td>\n",
              "      <td>19</td>\n",
              "      <td>10</td>\n",
              "      <td>3</td>\n",
              "      <td>3</td>\n",
              "      <td>25</td>\n",
              "      <td>4</td>\n",
              "      <td>0</td>\n",
              "      <td>2</td>\n",
              "      <td>50</td>\n",
              "      <td>19</td>\n",
              "      <td>2</td>\n",
              "      <td>2</td>\n",
              "      <td>28</td>\n",
              "      <td>6</td>\n",
              "      <td>0</td>\n",
              "      <td>2</td>\n",
              "      <td>14</td>\n",
              "      <td>20</td>\n",
              "      <td>2</td>\n",
              "      <td>0</td>\n",
              "      <td>12</td>\n",
              "      <td>4</td>\n",
              "      <td>0</td>\n",
              "      <td>0</td>\n",
              "      <td>8</td>\n",
              "      <td>2</td>\n",
              "      <td>0</td>\n",
              "      <td>0</td>\n",
              "      <td>9</td>\n",
              "      <td>0</td>\n",
              "      <td>1</td>\n",
              "      <td>0</td>\n",
              "      <td>3</td>\n",
              "    </tr>\n",
              "  </tbody>\n",
              "</table>\n",
              "</div>"
            ],
            "text/plain": [
              "          ID  Week2_Quiz1  Week3_MP1  ...  Week9_Stat2  Week9_Stat3  Grade\n",
              "0  ML-2020-1         5.00       15.0  ...            1            0      4\n",
              "1  ML-2020-2         3.33       15.0  ...            2            5      4\n",
              "2  ML-2020-3         1.67       13.0  ...            1            0      3\n",
              "\n",
              "[3 rows x 48 columns]"
            ]
          },
          "metadata": {},
          "execution_count": 1
        }
      ]
    },
    {
      "cell_type": "markdown",
      "metadata": {
        "id": "Z1hEQzj-xS0n"
      },
      "source": [
        "Data Exploration"
      ]
    },
    {
      "cell_type": "code",
      "metadata": {
        "colab": {
          "base_uri": "https://localhost:8080/",
          "height": 329
        },
        "id": "R_6kwGDuxNJ1",
        "outputId": "b64e83c5-5cf5-4b0e-f69b-6424f7b22d9b"
      },
      "source": [
        "\n",
        "print(\"Shape of Dataset:   \" + str(std.shape))\n",
        "\n",
        "# Histogram of grades\n",
        "plt.hist(std['Grade'], bins = 6)\n",
        "plt.xlabel('Grade')\n",
        "plt.ylabel('Count')\n",
        "plt.title('Distribution of Final Grades')\n",
        "plt.show()\n",
        "plt.clf()"
      ],
      "execution_count": 2,
      "outputs": [
        {
          "output_type": "stream",
          "name": "stdout",
          "text": [
            "Shape of Dataset:   (107, 48)\n"
          ]
        },
        {
          "output_type": "display_data",
          "data": {
            "image/png": "[encoded data removed]",
            "text/plain": [
              "<Figure size 432x288 with 1 Axes>"
            ]
          },
          "metadata": {
            "needs_background": "light"
          }
        },
        {
          "output_type": "display_data",
          "data": {
            "text/plain": [
              "<Figure size 432x288 with 0 Axes>"
            ]
          },
          "metadata": {}
        }
      ]
    },
    {
      "cell_type": "markdown",
      "metadata": {
        "id": "TCRyrdsCzbPQ"
      },
      "source": [
        "Find High Correlation Features"
      ]
    },
    {
      "cell_type": "code",
      "metadata": {
        "colab": {
          "base_uri": "https://localhost:8080/",
          "height": 490
        },
        "id": "A6Gw1OhFcdZ5",
        "outputId": "f451023e-e177-40b2-c71c-db0c90bebd55"
      },
      "source": [
        "std_features_keep = std.drop(['Week8_Total'],axis=1)\n",
        "\n",
        "# Create correlation matrix\n",
        "corr_matrix = std_features_keep.corr()['Grade'].sort_values()\n",
        "threshold = 0.7\n",
        "\n",
        "for  i, v in corr_matrix.iteritems():\n",
        "    if(v < threshold):\n",
        "      std_features_keep = std_features_keep.drop(i, axis=1)\n",
        "  \n",
        "# Plot for correlation\n",
        "std_plot = (std_features_keep.corr()['Grade'].sort_values()).plot(kind=\"bar\",figsize=(25,10))\n",
        "plt.xlabel('Feature')\n",
        "plt.ylabel('Correlation')\n",
        "plt.title('Correlation for Each Feature')\n",
        "plt.show()\n",
        "\n",
        "# Make sure std_features_keep are in order according to correlation\n",
        "ix = std_features_keep.corr().sort_values('Grade', ascending=False).index\n",
        "std_features_keep = std_features_keep.loc[:, ix]\n",
        "std_features_keep = std_features_keep.drop(['Grade'], axis=1)"
      ],
      "execution_count": 3,
      "outputs": [
        {
          "output_type": "display_data",
          "data": {
            "image/png": "[encoded data removed]",
            "text/plain": [
              "<Figure size 1800x720 with 1 Axes>"
            ]
          },
          "metadata": {
            "needs_background": "light"
          }
        }
      ]
    },
    {
      "cell_type": "markdown",
      "metadata": {
        "id": "oMxoMXLLbqnS"
      },
      "source": [
        "Random Forest"
      ]
    },
    {
      "cell_type": "code",
      "metadata": {
        "id": "XzUaU9BxoyT_",
        "colab": {
          "base_uri": "https://localhost:8080/",
          "height": 516
        },
        "outputId": "2777e1f9-3f09-4711-ba97-15b8182cab3d"
      },
      "source": [
        "#Import Random Forest Model\n",
        "from sklearn.ensemble import RandomForestClassifier\n",
        "from sklearn.model_selection import train_test_split\n",
        "from sklearn import metrics\n",
        "from sklearn.metrics import classification_report\n",
        "\n",
        "max_accuracy_random_forrest = 0\n",
        "max_index_random_forrest = 0\n",
        "scores = {}\n",
        "scores_list = []\n",
        "y_pred_max = 0\n",
        "range_allowed = range(2,len(std_features_keep.columns))\n",
        "\n",
        "for x in range_allowed:\n",
        "  X = std_features_keep.iloc[:, :x]\n",
        "  y= std['Grade']\n",
        "  # Split dataset into training set and test set\n",
        "  X_train, X_test, y_train, y_test = train_test_split(X, y, test_size=0.3,random_state=1) # 70% training and 30% test\n",
        "\n",
        "  #Create a Gaussian Classifier\n",
        "  clf=RandomForestClassifier(n_estimators=100)\n",
        "\n",
        "  #Train the model using the training sets y_pred=clf.predict(X_test)\n",
        "  clf.fit(X_train,y_train)\n",
        "\n",
        "  y_pred=clf.predict(X_test)\n",
        "  scores[x] = metrics.accuracy_score(y_test, y_pred)\n",
        "  scores_list.append(scores[x])\n",
        "  if(scores[x] > max_accuracy_random_forrest):\n",
        "    max_accuracy_random_forrest = scores[x]\n",
        "    max_index_random_forrest = x\n",
        "    y_pred_max = y_pred\n",
        "\n",
        "plt.clf()\n",
        "plt.plot(range_allowed,scores_list)\n",
        "plt.xlabel(\"Number of top features for Random Forest used\")\n",
        "plt.ylabel(\"Testing Accuracy\")\n",
        "plt.title('Measuring for Accuracy Against Number of Features Used Random Forest')\n",
        "plt.show()\n",
        "\n",
        "# Model Accuracy, how often is the classifier correct?\n",
        "print(\"Max accuracy is using the top \" + str(max_index_random_forrest) + \"  features which has an accuracy of  : \" + str(max_accuracy_random_forrest))\n",
        "print(classification_report(y_test, y_pred_max))"
      ],
      "execution_count": 14,
      "outputs": [
        {
          "output_type": "display_data",
          "data": {
            "image/png": "[encoded data removed]",
            "text/plain": [
              "<Figure size 432x288 with 1 Axes>"
            ]
          },
          "metadata": {
            "needs_background": "light"
          }
        },
        {
          "output_type": "stream",
          "name": "stdout",
          "text": [
            "Max accuracy is using the top 9  features which has an accuracy of  : 0.8787878787878788\n",
            "              precision    recall  f1-score   support\n",
            "\n",
            "           0       1.00      0.94      0.97        18\n",
            "           2       1.00      0.50      0.67         2\n",
            "           3       0.71      0.71      0.71         7\n",
            "           4       0.71      1.00      0.83         5\n",
            "           5       1.00      1.00      1.00         1\n",
            "\n",
            "    accuracy                           0.88        33\n",
            "   macro avg       0.89      0.83      0.84        33\n",
            "weighted avg       0.90      0.88      0.88        33\n",
            "\n"
          ]
        }
      ]
    },
    {
      "cell_type": "markdown",
      "metadata": {
        "id": "uyA3KBOBb3kZ"
      },
      "source": [
        "K-Nearest Neighbour"
      ]
    },
    {
      "cell_type": "code",
      "metadata": {
        "colab": {
          "base_uri": "https://localhost:8080/",
          "height": 882
        },
        "id": "Ny91iQ-bY5Tb",
        "outputId": "45122ba1-1dfb-4412-d3ef-dac1e4837989"
      },
      "source": [
        "#Import knearest neighbors Classifier model\n",
        "from sklearn.neighbors import KNeighborsClassifier\n",
        "from sklearn.preprocessing import StandardScaler\n",
        "from sklearn.metrics import classification_report\n",
        "\n",
        "\n",
        "# ///////////////////////////////////////////\n",
        "# Choosing number of features\n",
        "max_accuracy_knn_features = 0\n",
        "max_index_knn_features = 0\n",
        "scores = {}\n",
        "scores_list = []\n",
        "range_allowed = range(2,len(std_features_keep.columns))\n",
        "\n",
        "for x in range_allowed:\n",
        "  X = std_features_keep.iloc[:, :x]\n",
        "  y= std['Grade']\n",
        "  # Split dataset into training set and test set\n",
        "  X_train, X_test, y_train, y_test = train_test_split(X, y, test_size=0.2,random_state=1) # 70% training and 30% test\n",
        "  scaler = StandardScaler()\n",
        "  scaler.fit(X_train)\n",
        "  X_train = scaler.transform(X_train)\n",
        "  X_test = scaler.transform(X_test)\n",
        "  knn = KNeighborsClassifier(n_neighbors=5) \n",
        "  knn.fit(X_train, y_train)\n",
        "  y_pred = knn.predict(X_test)\n",
        "  scores[x] = metrics.accuracy_score(y_test, y_pred)\n",
        "  scores_list.append(scores[x])\n",
        "  if(scores[x] > max_accuracy_knn_features):\n",
        "    max_index_knn_features = x\n",
        "    max_accuracy_knn_features = scores[x]\n",
        "\n",
        "print(\"Max accuracy is using the top \" + str(max_index_knn_features) + \"  features which has an accuracy of  : \" + str(max_accuracy_knn_features))\n",
        "\n",
        "plt.clf()\n",
        "plt.plot(range_allowed,scores_list)\n",
        "plt.xlabel(\"Number of top features for KNN used\")\n",
        "plt.ylabel(\"Testing Accuracy\")\n",
        "plt.title('Measuring for Accuracy Against Number of Features Used KNN')\n",
        "plt.show()\n",
        "\n",
        "# ///////////////////////////////////////////\n",
        "# Choosing number for K\n",
        "\n",
        "X = std_features_keep.iloc[:, :max_index_knn_features]\n",
        "# Split dataset into training set and test set\n",
        "X_train, X_test, y_train, y_test = train_test_split(X, y, test_size=0.2,random_state=1) # 70% training and 30% test\n",
        "\n",
        "scaler = StandardScaler()\n",
        "scaler.fit(X_train)\n",
        "\n",
        "X_train = scaler.transform(X_train)\n",
        "X_test = scaler.transform(X_test)\n",
        "\n",
        "k_range = range(1,26)\n",
        "scores = {}\n",
        "scores_list = []\n",
        "max_score = 0.00\n",
        "max_k = 1\n",
        "y_pred_max = 0\n",
        "\n",
        "for k in k_range:\n",
        "      knn = KNeighborsClassifier(n_neighbors=k) \n",
        "      knn.fit(X_train, y_train)\n",
        "      y_pred = knn.predict(X_test)\n",
        "      scores[k] = metrics.accuracy_score(y_test, y_pred)\n",
        "      scores_list.append(scores[k])\n",
        "      if scores[k] > max_score:\n",
        "        max_k = k\n",
        "        max_score = scores[k]\n",
        "        y_pred_max = y_pred\n",
        "        \n",
        "\n",
        "print(classification_report(y_test, y_pred_max))\n",
        "\n",
        "plt.clf()\n",
        "plt.plot(k_range,scores_list)\n",
        "plt.xlabel(\"Values k for KNN\")\n",
        "plt.ylabel(\"Testing Accuracy\")\n",
        "plt.title('Measuring for Accuracy for Range of K in KNN')\n",
        "\n",
        "knn_accuracy_score =  max_score\n",
        "\n",
        "print()# Printing new line\n",
        "print(\"Max accuracy is using the top \" + str(max_index_knn_features) + \" feautures with k of :  \" + str(max_k) + \"  which gives accuracy of  \" + str(knn_accuracy_score))"
      ],
      "execution_count": 13,
      "outputs": [
        {
          "output_type": "stream",
          "name": "stdout",
          "text": [
            "Max accuracy is using the top 6  features which has an accuracy of  : 0.9545454545454546\n"
          ]
        },
        {
          "output_type": "display_data",
          "data": {
            "image/png": "[encoded data removed]",
            "text/plain": [
              "<Figure size 432x288 with 1 Axes>"
            ]
          },
          "metadata": {
            "needs_background": "light"
          }
        },
        {
          "output_type": "stream",
          "name": "stdout",
          "text": [
            "              precision    recall  f1-score   support\n",
            "\n",
            "           0       1.00      1.00      1.00        13\n",
            "           2       0.00      0.00      0.00         1\n",
            "           3       0.75      1.00      0.86         3\n",
            "           4       1.00      1.00      1.00         4\n",
            "           5       1.00      1.00      1.00         1\n",
            "\n",
            "    accuracy                           0.95        22\n",
            "   macro avg       0.75      0.80      0.77        22\n",
            "weighted avg       0.92      0.95      0.94        22\n",
            "\n",
            "\n",
            "Max accuracy is using the top 6 feautures with k of :  5  which gives accuracy of  0.9545454545454546\n"
          ]
        },
        {
          "output_type": "stream",
          "name": "stderr",
          "text": [
            "/usr/local/lib/python3.7/dist-packages/sklearn/metrics/_classification.py:1272: UndefinedMetricWarning: Precision and F-score are ill-defined and being set to 0.0 in labels with no predicted samples. Use `zero_division` parameter to control this behavior.\n",
            "  _warn_prf(average, modifier, msg_start, len(result))\n"
          ]
        },
        {
          "output_type": "display_data",
          "data": {
            "image/png": "[encoded data removed]",
            "text/plain": [
              "<Figure size 432x288 with 1 Axes>"
            ]
          },
          "metadata": {
            "needs_background": "light"
          }
        }
      ]
    },
    {
      "cell_type": "markdown",
      "metadata": {
        "id": "R3JuGUAdqUU6"
      },
      "source": [
        "Comparing the 2 Classifiers"
      ]
    },
    {
      "cell_type": "code",
      "metadata": {
        "colab": {
          "base_uri": "https://localhost:8080/",
          "height": 367
        },
        "id": "1Ha7XxQUozv_",
        "outputId": "a68bd039-baf4-45bf-bf5c-4d3093be9535"
      },
      "source": [
        "data = {'Random Forrest':max_accuracy_random_forrest, 'KNN':knn_accuracy_score}\n",
        "classifier = list(data.keys())\n",
        "accuracy = list(data.values())\n",
        "  \n",
        "plt.clf()\n",
        "fig = plt.figure(figsize = (10, 5))\n",
        "# creating the bar plot\n",
        "plt.bar(classifier, accuracy, color ='maroon',width = 0.4)\n",
        " \n",
        "plt.xlabel(\"Classifiers\")\n",
        "plt.ylabel(\"Accuracy\")\n",
        "plt.title(\"Accuracy for Classifiers\")\n",
        "plt.show()\n",
        " "
      ],
      "execution_count": 12,
      "outputs": [
        {
          "output_type": "display_data",
          "data": {
            "text/plain": [
              "<Figure size 432x288 with 0 Axes>"
            ]
          },
          "metadata": {}
        },
        {
          "output_type": "display_data",
          "data": {
            "image/png": "[encoded data removed]",
            "text/plain": [
              "<Figure size 720x360 with 1 Axes>"
            ]
          },
          "metadata": {
            "needs_background": "light"
          }
        }
      ]
    }
  ]
}